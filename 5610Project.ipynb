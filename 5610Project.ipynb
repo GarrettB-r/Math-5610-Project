{
 "cells": [
  {
   "cell_type": "code",
   "execution_count": 9,
   "metadata": {},
   "outputs": [
    {
     "data": {
      "text/plain": [
       "Solver (generic function with 1 method)"
      ]
     },
     "metadata": {},
     "output_type": "display_data"
    }
   ],
   "source": [
    "function LUFactorization(dl, d, du)\n",
    "\n",
    "    n = size(d, 1)\n",
    "\n",
    "    Ll = zeros(n - 1)\n",
    "    L = zeros(n)\n",
    "    U = zeros(n - 1)\n",
    "    P = zeros(n)\n",
    "\n",
    "    L[1] = d[1]\n",
    "    U[1] = du[1] / L[1]\n",
    "\n",
    "    for i in 2:(n - 1)\n",
    "\n",
    "        Ll[i - 1] = du[i - 1]\n",
    "        L[i] = d[i] - Ll[i - 1] * U[i - 1]\n",
    "        U[i] = dl[i] / L[i]\n",
    "\n",
    "    end\n",
    "\n",
    "    Ll[n - 1] = du[n - 1]\n",
    "    L[n] = d[n] - Ll[n - 1] * U[n - 1]\n",
    "\n",
    "    return Ll, L, U\n",
    "\n",
    "end\n",
    "\n",
    "function Solver(Ll, L, U, P, b)\n",
    "\n",
    "    x = zeros(size(P)) # The solution vector\n",
    "\n",
    "    return x\n",
    "end"
   ]
  },
  {
   "cell_type": "code",
   "execution_count": 17,
   "metadata": {},
   "outputs": [
    {
     "name": "stdout",
     "output_type": "stream",
     "text": [
      "[0.5883439437739769 0.163925734468652 0.0 0.0; 0.8412715505534553 0.634135326849826 0.908314621920588 0.0; 0.0 0.8867921404894384 0.07720474171818681 0.8982909332250227; 0.0 0.0 0.1825734773046167 0.3249910307889671]\n",
      "[0.8412715505534553, 0.8867921404894384, 0.1825734773046167][0.5883439437739769, 0.634135326849826, 0.07720474171818681, 0.3249910307889671]["
     ]
    },
    {
     "name": "stdout",
     "output_type": "stream",
     "text": [
      "0.163925734468652, 0.908314621920588, 0.8982909332250227]\n"
     ]
    }
   ],
   "source": [
    "using LinearAlgebra\n",
    "using PyPlot\n",
    "\n",
    "n = 4\n",
    "\n",
    "# Generate random vectors to be used\n",
    "dl = rand(n - 1)\n",
    "d = rand(n)\n",
    "du = rand(n - 1)\n",
    "b = rand(n)\n",
    "\n",
    "# Convert the tridiagonal to a full matrix\n",
    "A = zeros(n, n)\n",
    "\n",
    "A[1, 1] = d[1]\n",
    "A[1, 2] = du[1]\n",
    "for i in 2:(n - 1)\n",
    "    A[i, i] = d[i]\n",
    "    A[i, i + 1] = du[i]\n",
    "    A[i, i - 1] = dl[i - 1]\n",
    "end\n",
    "A[n, n] = d[n]\n",
    "A[n, n - 1] = dl[n - 1]\n",
    "\n",
    "println(A)\n",
    "\n",
    "LU = LUFactorization(dl, d, du)\n",
    "\n",
    "L = zeros(n, n)\n",
    "U = identity(n, n)\n",
    "# Make L\n",
    "for i in 1:(n - 1)\n",
    "    U[i + 1, i] = LU[3]\n",
    "end\n",
    "# Make U\n",
    "for i in 2:(n - 1)\n",
    "    \n",
    "end\n",
    "\n",
    "# Solver(LU[1], LU[2], LU[3], b)\n",
    "\n",
    "#LinearAlgebra.LAPACK.gtsv!(dl, d, du, b)"
   ]
  }
 ],
 "metadata": {
  "kernelspec": {
   "display_name": "Julia 1.9.3",
   "language": "julia",
   "name": "julia-1.9"
  },
  "language_info": {
   "file_extension": ".jl",
   "mimetype": "application/julia",
   "name": "julia",
   "version": "1.9.3"
  }
 },
 "nbformat": 4,
 "nbformat_minor": 5
}
