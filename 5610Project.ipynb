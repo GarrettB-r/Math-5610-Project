{
 "cells": [
  {
   "cell_type": "code",
   "execution_count": 1,
   "metadata": {},
   "outputs": [
    {
     "data": {
      "text/plain": [
       "Solver (generic function with 1 method)"
      ]
     },
     "metadata": {},
     "output_type": "display_data"
    }
   ],
   "source": [
    "function LUFactorization(dl, d, du)\n",
    "\n",
    "    n = size(d, 1)\n",
    "\n",
    "    ll = zeros(n - 1) # Lower diagonal of L\n",
    "    l = zeros(n) # Main diagonal of L\n",
    "    u = zeros(n - 1) # Upper diagonal of U\n",
    "    p = ones(n) # Permutation matrix, A=PLU\n",
    "\n",
    "    l[1] = d[1]\n",
    "    u[1] = du[1] / l[1]\n",
    "\n",
    "    for i in 2:(n - 1)\n",
    "\n",
    "        ll[i - 1] = dl[i - 1]\n",
    "        l[i] = d[i] - ll[i - 1] * u[i - 1]\n",
    "        u[i] = du[i] / l[i]\n",
    "\n",
    "    end\n",
    "\n",
    "    ll[n - 1] = dl[n - 1]\n",
    "    l[n] = d[n] - ll[n - 1] * u[n - 1]\n",
    "\n",
    "    return ll, l, u\n",
    "\n",
    "end\n",
    "\n",
    "function Solver(ll, l, u, b)\n",
    "\n",
    "    n = size(l, 1)\n",
    "\n",
    "    z = zeros(n) # Solves Lz=b\n",
    "    x = zeros(n) # The solution vector\n",
    "\n",
    "    z[1] = b[1] / l[1]\n",
    "\n",
    "    for i in 2:n\n",
    "\n",
    "        z[i] = (b[i] - ll[i - 1] * z[i - 1]) / l[i]\n",
    "\n",
    "    end\n",
    "\n",
    "    x[n] = z[n]\n",
    "\n",
    "    for i in reverse(1:(n - 1))\n",
    "\n",
    "        x[i] = z[i] - u[i] * x[i + 1]\n",
    "\n",
    "    end\n",
    "\n",
    "    return x\n",
    "end"
   ]
  },
  {
   "cell_type": "code",
   "execution_count": 2,
   "metadata": {},
   "outputs": [
    {
     "name": "stdout",
     "output_type": "stream",
     "text": [
      "2.7547884159896566e-12\n"
     ]
    }
   ],
   "source": [
    "using LinearAlgebra\n",
    "\n",
    "n = 1000\n",
    "\n",
    "# Generate random vectors to be used\n",
    "dl = rand(n - 1)\n",
    "d = rand(n)\n",
    "du = rand(n - 1)\n",
    "b = rand(n)\n",
    "\n",
    "# Convert the tridiagonal to a full matrix\n",
    "D = Tridiagonal(dl, d, du)\n",
    "\n",
    "LU = LUFactorization(dl, d, du)\n",
    "\n",
    "ll = LU[1]\n",
    "l = LU[2]\n",
    "u = LU[3]\n",
    "\n",
    "L = Tridiagonal(ll, l, zeros(n - 1))\n",
    "U = Tridiagonal(zeros(n - 1), ones(n), u)\n",
    "\n",
    "x1 = Solver(ll, l, u, b)\n",
    "x2 = LinearAlgebra.LAPACK.gtsv!(dl, d, du, b)\n",
    "\n",
    "println(norm(x1 - x2, 2))"
   ]
  },
  {
   "cell_type": "code",
   "execution_count": 3,
   "metadata": {},
   "outputs": [
    {
     "name": "stderr",
     "output_type": "stream",
     "text": [
      "sys:1: UserWarning: FigureCanvasAgg is non-interactive, and thus cannot be shown\r\n"
     ]
    }
   ],
   "source": [
    " using PyPlot\n",
    "\n",
    " maxn = 1000 # Larges size system to go to\n",
    "n = maxn ÷ 10 # The size of the system\n",
    "j = 10000 # The number of systems to solve at each size\n",
    "dn = n # Change in n\n",
    "\n",
    "# Defining the arrays \n",
    "arr0 = zeros(maxn ÷ dn)\n",
    "arr1 = zeros(maxn ÷ dn)\n",
    "arr2 = zeros(maxn ÷ dn)\n",
    "\n",
    "while (n <= maxn)\n",
    "\n",
    "    # Our implementation\n",
    "    t1 = time()\n",
    "\n",
    "    for i in 1:j\n",
    "\n",
    "        dl = rand(n - 1)\n",
    "        d = rand(n)\n",
    "        du = rand(n - 1)\n",
    "        b = rand(n)\n",
    "\n",
    "        LU = LUFactorization(dl, d, du)\n",
    "\n",
    "        ll = LU[1]\n",
    "        l = LU[2]\n",
    "        u = LU[3]\n",
    "\n",
    "        x = Solver(ll, l, u, b)\n",
    "\n",
    "    end\n",
    "\n",
    "    arr1[n ÷ dn] = time() - t1\n",
    "\n",
    "    # LAPACK.gtsv\n",
    "    t2 = time()\n",
    "\n",
    "    for i in 1:j\n",
    "\n",
    "        dl = rand(n - 1)\n",
    "        d = rand(n)\n",
    "        du = rand(n - 1)\n",
    "        b = rand(n)\n",
    "\n",
    "        x = LinearAlgebra.LAPACK.gtsv!(dl, d, du, b)\n",
    "\n",
    "    end\n",
    "\n",
    "    arr1[n ÷ dn] = time() - t2\n",
    "\n",
    "    arr0[n ÷ dn] = n\n",
    "    n += dn\n",
    "end\n",
    "  \n",
    "plot(arr0,arr1, label = \"Our impementation\")\n",
    "plot(arr0,arr2, label = \"LAPACK.gtsv\")\n",
    "\n",
    "PyPlot.xlabel(\"System Size\")\n",
    "PyPlot.ylabel(\"Time (s)\")\n",
    "\n",
    "PyPlot.title(\"LAPACK vs Our Implementation\")\n",
    "PyPlot.legend()\n",
    "PyPlot.show()"
   ]
  }
 ],
 "metadata": {
  "kernelspec": {
   "display_name": "Julia 1.9.3",
   "language": "julia",
   "name": "julia-1.9"
  },
  "language_info": {
   "file_extension": ".jl",
   "mimetype": "application/julia",
   "name": "julia",
   "version": "1.9.3"
  }
 },
 "nbformat": 4,
 "nbformat_minor": 5
}
